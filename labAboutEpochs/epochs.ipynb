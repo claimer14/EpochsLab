{
 "cells": [
  {
   "cell_type": "code",
   "execution_count": 1,
   "metadata": {},
   "outputs": [],
   "source": [
    "import time\n",
    "import numpy as np\n",
    "from concurrent.futures import ProcessPoolExecutor\n",
    "import numba"
   ]
  },
  {
   "cell_type": "code",
   "execution_count": 2,
   "metadata": {},
   "outputs": [],
   "source": [
    "def nearest_timestamp_indices(source: np.ndarray, target: np.ndarray) -> np.ndarray:\n",
    "\n",
    "    indices = np.zeros(shape = (source.shape[0]), dtype = np.int32)\n",
    "    \n",
    "    for i,ts in enumerate(source):\n",
    "        pos = np.searchsorted(target, ts)\n",
    "        if pos == 0:\n",
    "            indices[i] = 0\n",
    "        elif pos == len(target):\n",
    "            indices[i] = len(target) - 1\n",
    "        else:\n",
    "            left_dist = abs(target[pos - 1] - ts)\n",
    "            right_dist = abs(target[pos] - ts)\n",
    "            if right_dist < left_dist:\n",
    "                indices[i] = pos\n",
    "            else:\n",
    "                indices[i] = pos - 1\n",
    "\n",
    "    return indices"
   ]
  },
  {
   "cell_type": "code",
   "execution_count": 3,
   "metadata": {},
   "outputs": [],
   "source": [
    "@numba.njit(\"int32[:](float64[:], float64[:])\", parallel = True)\n",
    "def parallel(source: np.ndarray, target: np.ndarray) -> np.ndarray:\n",
    "\n",
    "    indices = np.zeros(shape = (source.shape[0]), dtype = np.int32)\n",
    "    \n",
    "    for i,ts in enumerate(source):\n",
    "        pos = np.searchsorted(target, ts)\n",
    "        if pos == 0:\n",
    "            indices[i] = 0\n",
    "        elif pos == len(target):\n",
    "            indices[i] = len(target) - 1\n",
    "        else:\n",
    "            left_dist = abs(target[pos - 1] - ts)\n",
    "            right_dist = abs(target[pos] - ts)\n",
    "            if right_dist < left_dist:\n",
    "                indices[i] = pos\n",
    "            else:\n",
    "                indices[i] = pos - 1\n",
    "\n",
    "    return indices"
   ]
  },
  {
   "cell_type": "code",
   "execution_count": 4,
   "metadata": {},
   "outputs": [],
   "source": [
    "def parallel_processing(source: np.ndarray, target: np.ndarray, num_threads: int) -> np.ndarray:\n",
    "\n",
    "    chunk_size = (len(source) + num_threads - 1) // num_threads \n",
    "    chunks = [source[i * chunk_size: (i + 1) * chunk_size] for i in range(num_threads)]\n",
    "    \n",
    "    result = np.zeros(len(source), dtype=int)\n",
    "\n",
    "    with ProcessPoolExecutor() as executor:\n",
    "        # Разбиваем задачу по частям и передаем в каждый поток\n",
    "        futures = [executor.submit(nearest_timestamp_indices, chunk, target) for chunk in chunks]\n",
    "        \n",
    "        for i, future in enumerate(futures):\n",
    "            chunk_result = future.result()\n",
    "            result[i * chunk_size: (i + 1) * chunk_size] = chunk_result[:len(chunk_result)]\n",
    "    \n",
    "    return result"
   ]
  },
  {
   "cell_type": "code",
   "execution_count": 5,
   "metadata": {},
   "outputs": [],
   "source": [
    "# Генерация временных меток с небольшим случайным шумом.\n",
    "def generate_noisy_timestamps(fps: int, start_time: float, end_time: float) -> np.ndarray:\n",
    "\n",
    "    total_count = int((end_time - start_time) * fps)\n",
    "\n",
    "    timestamps_no_noise = np.linspace(start_time, end_time, total_count)\n",
    "\n",
    "    random_noise = np.random.randn(total_count)\n",
    "\n",
    "    noisy_timestamps = timestamps_no_noise + random_noise\n",
    "\n",
    "    unique_sorted_timestamps = np.sort(np.unique(noisy_timestamps))\n",
    "\n",
    "    return unique_sorted_timestamps"
   ]
  },
  {
   "cell_type": "code",
   "execution_count": 7,
   "metadata": {},
   "outputs": [
    {
     "name": "stdout",
     "output_type": "stream",
     "text": [
      "Время выполнения последовательного алгоритма: 0.2708 секунд\n",
      "Время выполнения параллельного алгоритма: 0.0172 секунд\n",
      "Разница во времени: 0.2537 секунд\n"
     ]
    }
   ],
   "source": [
    "def main_execution():\n",
    "  \n",
    "    start_time_cam1 = time.time() - 100\n",
    "    end_time_cam1 = time.time() + 3600 * 2\n",
    "    timestamps_cam1 = generate_noisy_timestamps(30, start_time_cam1, end_time_cam1)\n",
    "    start_time_cam2 = time.time() + 200\n",
    "    end_time_cam2 = time.time() + 3600 * 2.5\n",
    "    timestamps_cam2 = generate_noisy_timestamps(60, start_time_cam2, end_time_cam2)\n",
    " \n",
    "    start_time_seq = time.time()\n",
    "    result_sequential = nearest_timestamp_indices(timestamps_cam1, timestamps_cam2)\n",
    "    time_seq = time.time() - start_time_seq\n",
    "    print(f\"Время выполнения последовательного алгоритма: {time_seq:.4f} секунд\")\n",
    "\n",
    "    start_time_parallel = time.time()\n",
    "    result_parallel = parallel(timestamps_cam1, timestamps_cam2)\n",
    "    time_parallel = time.time() - start_time_parallel\n",
    "    print(f\"Время выполнения параллельного алгоритма: {time_parallel:.4f} секунд\")\n",
    "\n",
    "    print(f\"Разница во времени: {time_seq - time_parallel:.4f} секунд\")\n",
    "\n",
    "if __name__ == \"__main__\":\n",
    "    main_execution()"
   ]
  }
 ],
 "metadata": {
  "kernelspec": {
   "display_name": "Python 3",
   "language": "python",
   "name": "python3"
  },
  "language_info": {
   "codemirror_mode": {
    "name": "ipython",
    "version": 3
   },
   "file_extension": ".py",
   "mimetype": "text/x-python",
   "name": "python",
   "nbconvert_exporter": "python",
   "pygments_lexer": "ipython3",
   "version": "3.9.6"
  }
 },
 "nbformat": 4,
 "nbformat_minor": 2
}
